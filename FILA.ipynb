{
  "nbformat": 4,
  "nbformat_minor": 0,
  "metadata": {
    "colab": {
      "provenance": [],
      "authorship_tag": "ABX9TyPUkU25Ivmyo1V2hCUIO7VF",
      "include_colab_link": true
    },
    "kernelspec": {
      "name": "python3",
      "display_name": "Python 3"
    },
    "language_info": {
      "name": "python"
    }
  },
  "cells": [
    {
      "cell_type": "markdown",
      "metadata": {
        "id": "view-in-github",
        "colab_type": "text"
      },
      "source": [
        "<a href=\"https://colab.research.google.com/github/Jonata-Garcia/Filas/blob/main/FILA.ipynb\" target=\"_parent\"><img src=\"https://colab.research.google.com/assets/colab-badge.svg\" alt=\"Open In Colab\"/></a>"
      ]
    },
    {
      "cell_type": "markdown",
      "source": [
        "**1**. Adicione os números de 1 a 5 a uma fila e depois remova todos eles, mostrando o conteúdo da fila após cada remoção."
      ],
      "metadata": {
        "id": "iV2yZXHIQJTG"
      }
    },
    {
      "cell_type": "code",
      "execution_count": 1,
      "metadata": {
        "colab": {
          "base_uri": "https://localhost:8080/"
        },
        "id": "qjesRbBBOMFB",
        "outputId": "3e5f5f27-1ca6-4acb-a318-67a9582ab10d"
      },
      "outputs": [
        {
          "output_type": "stream",
          "name": "stdout",
          "text": [
            "Fila após remoção: [2, 3, 4, 5]\n",
            "Fila após remoção: [3, 4, 5]\n",
            "Fila após remoção: [4, 5]\n",
            "Fila após remoção: [5]\n",
            "Fila após remoção: []\n"
          ]
        }
      ],
      "source": [
        "from collections import deque\n",
        "\n",
        "fila = deque()\n",
        "\n",
        "# Adicionar os números de 1 a 5\n",
        "for i in range(1, 6):\n",
        "    fila.append(i)\n",
        "\n",
        "# Remover os elementos e mostrar o estado da fila após cada remoção\n",
        "while fila:\n",
        "    fila.popleft()\n",
        "    print(\"Fila após remoção:\", list(fila))\n"
      ]
    },
    {
      "cell_type": "markdown",
      "source": [
        "**2**. Crie uma fila e enfileire 4 números. depois, mostre qual é o primeiro e o último elemento da fila sem removê-los."
      ],
      "metadata": {
        "id": "WjS373IbQjP9"
      }
    },
    {
      "cell_type": "code",
      "source": [
        "from collections import deque\n",
        "\n",
        "fila = deque([10, 20, 30, 40])\n",
        "\n",
        "# Mostrando o primeiro e o último elemento sem removê-los\n",
        "print(\"Primeiro elemento:\", fila[0])\n",
        "print(\"Último elemento:\", fila[-1])\n"
      ],
      "metadata": {
        "id": "-HAwotx_RFLu"
      },
      "execution_count": null,
      "outputs": []
    },
    {
      "cell_type": "markdown",
      "source": [
        "**3**. Crie uma fila e adcione 3 strings a ela. Depois, remova os elementos da fila até que ela fique vazia e mostre o conteúdo após cada remoção."
      ],
      "metadata": {
        "id": "mvresimfRSbX"
      }
    },
    {
      "cell_type": "code",
      "source": [
        "from collections import deque\n",
        "\n",
        "fila = deque(['apple', 'banana', 'cherry'])\n",
        "\n",
        "# Removendo até a fila ficar vazia\n",
        "while fila:\n",
        "    fila.popleft()\n",
        "    print(\"Fila atual:\", list(fila))\n"
      ],
      "metadata": {
        "id": "wHoQLQOXRrc3"
      },
      "execution_count": null,
      "outputs": []
    },
    {
      "cell_type": "markdown",
      "source": [
        "**4**. Adcione números de 1 a 5 a uma fila. Verifique se o número 3 está na fila e depois remova o número 3, mostrando a fila após essa remoção."
      ],
      "metadata": {
        "id": "XuqG5nFuR2MO"
      }
    },
    {
      "cell_type": "code",
      "source": [
        "from collections import deque\n",
        "\n",
        "fila = deque([1, 2, 3, 4, 5])\n",
        "\n",
        "# Verificando se o número 3 está na fila\n",
        "if 3 in fila:\n",
        "    print(\"Número 3 está na fila.\")\n",
        "\n",
        "# Removendo o número 3\n",
        "fila.remove(3)\n",
        "print(\"Fila após remover o número 3:\", list(fila))\n"
      ],
      "metadata": {
        "id": "WA5PuAynSTuw"
      },
      "execution_count": null,
      "outputs": []
    },
    {
      "cell_type": "markdown",
      "source": [
        "**5**. Adicione 4 elementos a uma fila. Em seguida, esvazie a fila e exiba uma menssagem cada vez que eu elemntos for removido"
      ],
      "metadata": {
        "id": "SSG1gIcwSs_2"
      }
    },
    {
      "cell_type": "code",
      "source": [
        "from collections import deque\n",
        "\n",
        "fila = deque(['elemento1', 'elemento2', 'elemento3', 'elemento4'])\n",
        "\n",
        "# Removendo elementos com mensagem\n",
        "while fila:\n",
        "    removido = fila.popleft()\n",
        "    print(f\"{removido} foi removido. Fila agora: {list(fila)}\")\n"
      ],
      "metadata": {
        "colab": {
          "base_uri": "https://localhost:8080/"
        },
        "id": "EyTjHztRTGtA",
        "outputId": "9336fd29-d4c5-4f6d-d2bf-e0401a5df493"
      },
      "execution_count": 2,
      "outputs": [
        {
          "output_type": "stream",
          "name": "stdout",
          "text": [
            "elemento1 foi removido. Fila agora: ['elemento2', 'elemento3', 'elemento4']\n",
            "elemento2 foi removido. Fila agora: ['elemento3', 'elemento4']\n",
            "elemento3 foi removido. Fila agora: ['elemento4']\n",
            "elemento4 foi removido. Fila agora: []\n"
          ]
        }
      ]
    }
  ]
}